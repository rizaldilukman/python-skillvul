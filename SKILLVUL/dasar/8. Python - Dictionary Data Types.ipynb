{
 "cells": [
  {
   "cell_type": "markdown",
   "id": "c812e9c1",
   "metadata": {},
   "source": [
    "# DICTIONARY "
   ]
  },
  {
   "cell_type": "markdown",
   "id": "79c36307",
   "metadata": {},
   "source": [
    "## Dictionary Basics "
   ]
  },
  {
   "cell_type": "markdown",
   "id": "29192e80",
   "metadata": {},
   "source": [
    "Dictionary adalah data yang memiliki pasangan nilai kunci atau sering yang disebut key value pair. Merupakan struktur data yang banyak digunakan karena mengacu pada nilai dengan menggunakan kunci."
   ]
  },
  {
   "cell_type": "markdown",
   "id": "28041fd3",
   "metadata": {},
   "source": [
    "- Dictionary memiliki kemiripan dengan tipe data list, karakteristiknya adalah memiliki pasangan nilai kunci.\n",
    "- Kunci harus unik dan tidak dapat diduplikasi. "
   ]
  },
  {
   "cell_type": "markdown",
   "id": "e2d564e3",
   "metadata": {},
   "source": [
    "syntax : [kunci] : [nilai] \n",
    "CONTOH"
   ]
  },
  {
   "cell_type": "code",
   "execution_count": 2,
   "id": "c87dae18",
   "metadata": {},
   "outputs": [],
   "source": [
    "person = {'Name' : 'David Doe', 'Age' : 26, 'Weight' : 82 } # Dictionary dengan nama, umur dan berat"
   ]
  },
  {
   "cell_type": "code",
   "execution_count": 3,
   "id": "aa935ecc",
   "metadata": {},
   "outputs": [
    {
     "name": "stdout",
     "output_type": "stream",
     "text": [
      "{'Name': 'David Doe', 'Age': 26, 'Weight': 82}\n"
     ]
    }
   ],
   "source": [
    "print (person)"
   ]
  },
  {
   "cell_type": "code",
   "execution_count": 8,
   "id": "9033e7ca",
   "metadata": {},
   "outputs": [
    {
     "data": {
      "text/plain": [
       "'David Doe'"
      ]
     },
     "execution_count": 8,
     "metadata": {},
     "output_type": "execute_result"
    }
   ],
   "source": []
  },
  {
   "cell_type": "code",
   "execution_count": 10,
   "id": "03eb5743",
   "metadata": {},
   "outputs": [
    {
     "ename": "SyntaxError",
     "evalue": "invalid syntax (Temp/ipykernel_3352/1418856445.py, line 1)",
     "output_type": "error",
     "traceback": [
      "\u001b[1;36m  File \u001b[1;32m\"C:\\Users\\ASUS\\AppData\\Local\\Temp/ipykernel_3352/1418856445.py\"\u001b[1;36m, line \u001b[1;32m1\u001b[0m\n\u001b[1;33m    Dalam contoh dibawah ini kita\u001b[0m\n\u001b[1;37m          ^\u001b[0m\n\u001b[1;31mSyntaxError\u001b[0m\u001b[1;31m:\u001b[0m invalid syntax\n"
     ]
    }
   ],
   "source": [
    "Dalam contoh dibawah ini kita "
   ]
  },
  {
   "cell_type": "markdown",
   "id": "bdf98556",
   "metadata": {},
   "source": [
    "Dalam contoh di bawah ini kita akan melihat konsep dari key-value pair pada sebuah dictionary. Seperti yang ditunjukkan pada kode di bawah, melalui konsep dari key-value pair sehingga dimungkinkan untuk mencari David Doe melalui kunci dictionary person yaitu key Name,Age dan Weight."
   ]
  },
  {
   "cell_type": "code",
   "execution_count": 11,
   "id": "21b18089",
   "metadata": {},
   "outputs": [],
   "source": [
    "person = {'Name':'David Doe', 'Age':26, 'Weight' : 82}"
   ]
  },
  {
   "cell_type": "code",
   "execution_count": 12,
   "id": "1bc5e390",
   "metadata": {},
   "outputs": [
    {
     "data": {
      "text/plain": [
       "'David Doe'"
      ]
     },
     "execution_count": 12,
     "metadata": {},
     "output_type": "execute_result"
    }
   ],
   "source": [
    "person['Name']"
   ]
  },
  {
   "cell_type": "code",
   "execution_count": 13,
   "id": "6bdfc7bd",
   "metadata": {},
   "outputs": [
    {
     "data": {
      "text/plain": [
       "26"
      ]
     },
     "execution_count": 13,
     "metadata": {},
     "output_type": "execute_result"
    }
   ],
   "source": [
    "person['Age']"
   ]
  },
  {
   "cell_type": "code",
   "execution_count": 14,
   "id": "86f93b9e",
   "metadata": {},
   "outputs": [
    {
     "data": {
      "text/plain": [
       "82"
      ]
     },
     "execution_count": 14,
     "metadata": {},
     "output_type": "execute_result"
    }
   ],
   "source": [
    "person['Weight']"
   ]
  },
  {
   "cell_type": "markdown",
   "id": "1e62ccff",
   "metadata": {},
   "source": [
    "## DICTIONARY - ADDING, MODIFYING, DELETE VALUES"
   ]
  },
  {
   "cell_type": "markdown",
   "id": "4174840e",
   "metadata": {},
   "source": [
    "### Adding Items "
   ]
  },
  {
   "cell_type": "markdown",
   "id": "248f6f74",
   "metadata": {},
   "source": [
    "nama_dictionary [nama_kunci] = nilai "
   ]
  },
  {
   "cell_type": "code",
   "execution_count": 17,
   "id": "35dde9cb",
   "metadata": {},
   "outputs": [
    {
     "name": "stdout",
     "output_type": "stream",
     "text": [
      "{'Name': 'David Doe', 'Age': 26, 'Weight': 82, 'Job': 'Data Scientist'}\n"
     ]
    }
   ],
   "source": [
    "person = {'Name': 'David Doe', 'Age': 26, 'Weight' : 82}\n",
    "person['Job'] = 'Data Scientist' # Key baru: masukkan nilai dari key tersebut\n",
    "print(person)"
   ]
  },
  {
   "cell_type": "markdown",
   "id": "755d9b9a",
   "metadata": {},
   "source": [
    "## Modifying Items "
   ]
  },
  {
   "cell_type": "markdown",
   "id": "092c2685",
   "metadata": {},
   "source": [
    "Dalam mengubah nilai dari sebuah key dalam dictionary yaitu kurang lebih sama dengan menambahkan item ke dalam dictionary, perbedaanya terletak pada nama key. \n",
    "- Mengubah    : nama harus sudah ada\n",
    "- Menambahkan : harus dengan key yang baru "
   ]
  },
  {
   "cell_type": "code",
   "execution_count": 18,
   "id": "b1ca0c4d",
   "metadata": {},
   "outputs": [
    {
     "name": "stdout",
     "output_type": "stream",
     "text": [
      "{'Name': 'David Doe', 'Age': 27, 'Weight': 82}\n"
     ]
    }
   ],
   "source": [
    "person = {'Name': 'David Doe', 'Age': 26, 'Weight' : 82}\n",
    "person['Age'] = 27 # Ubah value dari key yang sudah ada 'Age' \n",
    "print(person)"
   ]
  },
  {
   "cell_type": "markdown",
   "id": "2ffcd3af",
   "metadata": {},
   "source": [
    "## Deleting Items "
   ]
  },
  {
   "cell_type": "markdown",
   "id": "bc0f0cb6",
   "metadata": {},
   "source": [
    "Untuk menghapus, sebuah item bisa dengan del keywords. "
   ]
  },
  {
   "cell_type": "code",
   "execution_count": 19,
   "id": "bc357cee",
   "metadata": {},
   "outputs": [
    {
     "name": "stdout",
     "output_type": "stream",
     "text": [
      "{'Name': 'David Doe', 'Weight': 82}\n"
     ]
    }
   ],
   "source": [
    "person = {'Name': 'David Doe', 'Age': 26, 'Weight' : 82}\n",
    "del person['Age'] # Delete value dari key yang sudah ada 'Age' \n",
    "print(person)"
   ]
  },
  {
   "cell_type": "markdown",
   "id": "95a11d05",
   "metadata": {},
   "source": [
    "## Dictionary - Function and Operators"
   ]
  },
  {
   "cell_type": "markdown",
   "id": "882c3fa2",
   "metadata": {},
   "source": [
    "len() function dan in operator"
   ]
  },
  {
   "cell_type": "markdown",
   "id": "258b6f15",
   "metadata": {},
   "source": [
    "Fungsinya untuk mengetahui jumlah item dalam sebuah dictionary, kita bisa menggunakan fungsi len()"
   ]
  },
  {
   "cell_type": "code",
   "execution_count": 22,
   "id": "743b719b",
   "metadata": {},
   "outputs": [
    {
     "name": "stdout",
     "output_type": "stream",
     "text": [
      "2\n"
     ]
    }
   ],
   "source": [
    "a = {'abc':100,'def':200}\n",
    "print(len(a))"
   ]
  },
  {
   "cell_type": "markdown",
   "id": "8ad56a61",
   "metadata": {},
   "source": [
    "in digunakan untuk **memvalidasi** apakah key ada di dalam sebuah dictionary. "
   ]
  },
  {
   "cell_type": "markdown",
   "id": "606a78c5",
   "metadata": {},
   "source": [
    "Operator in akan bernilai true jika key ada dalam dictionary, jika tidak maka false. dan not in melakukan kebalikan dari operator in "
   ]
  },
  {
   "cell_type": "code",
   "execution_count": 24,
   "id": "c559e94a",
   "metadata": {},
   "outputs": [],
   "source": [
    "person = {'Name':'David Joe', 'Age' :26, 'Weight':82}\n"
   ]
  },
  {
   "cell_type": "code",
   "execution_count": 25,
   "id": "70f5edd3",
   "metadata": {},
   "outputs": [
    {
     "data": {
      "text/plain": [
       "3"
      ]
     },
     "execution_count": 25,
     "metadata": {},
     "output_type": "execute_result"
    }
   ],
   "source": [
    "len(person)"
   ]
  },
  {
   "cell_type": "code",
   "execution_count": 26,
   "id": "c54dbe8d",
   "metadata": {},
   "outputs": [
    {
     "data": {
      "text/plain": [
       "True"
      ]
     },
     "execution_count": 26,
     "metadata": {},
     "output_type": "execute_result"
    }
   ],
   "source": [
    "'Name' in person"
   ]
  },
  {
   "cell_type": "code",
   "execution_count": 27,
   "id": "5374d993",
   "metadata": {},
   "outputs": [
    {
     "data": {
      "text/plain": [
       "False"
      ]
     },
     "execution_count": 27,
     "metadata": {},
     "output_type": "execute_result"
    }
   ],
   "source": [
    "'job' in person"
   ]
  },
  {
   "cell_type": "code",
   "execution_count": 28,
   "id": "33f40551",
   "metadata": {},
   "outputs": [
    {
     "data": {
      "text/plain": [
       "False"
      ]
     },
     "execution_count": 28,
     "metadata": {},
     "output_type": "execute_result"
    }
   ],
   "source": [
    "'David Doe' in person"
   ]
  },
  {
   "cell_type": "code",
   "execution_count": 29,
   "id": "37754875",
   "metadata": {},
   "outputs": [
    {
     "data": {
      "text/plain": [
       "True"
      ]
     },
     "execution_count": 29,
     "metadata": {},
     "output_type": "execute_result"
    }
   ],
   "source": [
    "'David Doe' not in person"
   ]
  },
  {
   "cell_type": "markdown",
   "id": "1e932c76",
   "metadata": {},
   "source": [
    "## Json Datatypes - Basics"
   ]
  },
  {
   "cell_type": "markdown",
   "id": "b4948f1f",
   "metadata": {},
   "source": [
    "Json (Java Script Object Notation) dikembangkan untuk mengirimkan objek data yang terdiri dari key-value-pair. Data ini dalam format standar terbuka menggunakan teks dan dapat kita baca. Ini merupakan format data utama untuk komunikasi antara browser dan server. Digunakna untuk mengekspresikan data saat bertukar informasi di internet. "
   ]
  },
  {
   "cell_type": "markdown",
   "id": "7ceaa3ae",
   "metadata": {},
   "source": [
    "Tidak ada batasan dalam tipe data dan sangat tepat untuk mengekspresikan variabel dari program komputer. Json berawal dari javascript. Sehingga mengikuti sintaks JavaScript, tetapi memiliki format data bahasa independent. kode untuk analisis sintaks dan pembuatan data JSON dapat dengan mudah digunakan dalam berbagai bahasa pemrograman termasuk C, C++, C#, Java, JavaScript, Perl, Python, dan lainnya."
   ]
  },
  {
   "attachments": {
    "JSON_BASIC.jpg": {
     "image/jpeg": "[encoded data removed]"
    }
   },
   "cell_type": "markdown",
   "id": "2c5f7375",
   "metadata": {},
   "source": [
    "![JSON_BASIC.jpg](attachment:JSON_BASIC.jpg)"
   ]
  },
  {
   "cell_type": "markdown",
   "id": "932e3f30",
   "metadata": {},
   "source": [
    "## JSON Read and Exporting"
   ]
  },
  {
   "cell_type": "markdown",
   "id": "8e029978",
   "metadata": {},
   "source": [
    "### Read Json Data"
   ]
  },
  {
   "cell_type": "markdown",
   "id": "0657f80a",
   "metadata": {},
   "source": [
    "Digunakan dalam data, Json untuk membaca file atau string json sebagai dictionary dan mengubahnya menjadi string. "
   ]
  },
  {
   "cell_type": "markdown",
   "id": "619f3425",
   "metadata": {},
   "source": [
    "Untuk membaca string tipe json, kita dapat gunakan fungsi loads(). Data tipe json yang terdiri dari string dapat diubah menjadi tipe dictionary melalui fungsi loads() dalam modul json. Kita bisa menggunakan fungsi loads() untuk merubah data json menjadi dictionary:"
   ]
  },
  {
   "cell_type": "code",
   "execution_count": 75,
   "id": "0620cffd",
   "metadata": {},
   "outputs": [],
   "source": [
    "import json"
   ]
  },
  {
   "cell_type": "code",
   "execution_count": 76,
   "id": "d3c194e2",
   "metadata": {},
   "outputs": [],
   "source": [
    "data = '{\"Name\":\"David Doe\", \"Age\":25, \"Hobby\":[\"basketball\"],\\\"Family\":{\"father\":\"John Doe\", \"mother\":\"Marry Doe\"},\"Married\" : true}'"
   ]
  },
  {
   "cell_type": "code",
   "execution_count": 77,
   "id": "0636b60e",
   "metadata": {},
   "outputs": [],
   "source": [
    "json_data = json.loads(data)"
   ]
  },
  {
   "cell_type": "code",
   "execution_count": 78,
   "id": "36458427",
   "metadata": {},
   "outputs": [
    {
     "name": "stdout",
     "output_type": "stream",
     "text": [
      "<class 'dict'>\n",
      "David Doe\n",
      "{'father': 'John Doe', 'mother': 'Marry Doe'}\n",
      "True\n"
     ]
    }
   ],
   "source": [
    "print (type(json_data))\n",
    "print(json_data['Name'])\n",
    "print(json_data['Family'])\n",
    "print(json_data['Married'])"
   ]
  },
  {
   "cell_type": "markdown",
   "id": "5ac4c704",
   "metadata": {},
   "source": [
    "## DUMPS"
   ]
  },
  {
   "cell_type": "markdown",
   "id": "ec3a06fc",
   "metadata": {},
   "source": [
    "fungsi **Dumps** () digunakan untuk merubah dictionary menjadi json-string. Fungsi dumps() untuk menghasilkan sebuah file tipe Json dari data dictionary. "
   ]
  },
  {
   "cell_type": "code",
   "execution_count": 81,
   "id": "43581f27",
   "metadata": {},
   "outputs": [
    {
     "name": "stdout",
     "output_type": "stream",
     "text": [
      "Result: {\"Halo\": 123, \"Semua\": 456}\n",
      "Tipe: <class 'str'>\n"
     ]
    }
   ],
   "source": [
    "import json\n",
    "Dictionary = {'Halo':123, 'Semua':456}\n",
    "json_string = json.dumps(Dictionary)\n",
    "\n",
    "print('Result:',json_string)\n",
    "print('Tipe:',type(json_string))"
   ]
  },
  {
   "cell_type": "markdown",
   "id": "a71872f5",
   "metadata": {},
   "source": [
    "## Export Json data (json.dump)"
   ]
  },
  {
   "cell_type": "markdown",
   "id": "2aa5455c",
   "metadata": {},
   "source": [
    "Membuat format json ke dalam file pada python, dapat menggunakan json.dump(). **Harap diperhatikan bahwa ada 2 method yang berbeda yaitu json.dump() dan json.dumps()**"
   ]
  },
  {
   "cell_type": "code",
   "execution_count": 82,
   "id": "2f92b156",
   "metadata": {},
   "outputs": [],
   "source": [
    "import json "
   ]
  },
  {
   "cell_type": "code",
   "execution_count": 83,
   "id": "8ac71227",
   "metadata": {},
   "outputs": [],
   "source": [
    "data = '{\"tittle\":\"The Old man and The Sea\",\"ISBN\":\"12345\",\"Author\":\"Ernest Hemigway\"}'"
   ]
  },
  {
   "cell_type": "code",
   "execution_count": 84,
   "id": "cfc2b824",
   "metadata": {},
   "outputs": [],
   "source": [
    "json_data = json.loads(data)"
   ]
  },
  {
   "cell_type": "code",
   "execution_count": 85,
   "id": "aaf3bec4",
   "metadata": {},
   "outputs": [],
   "source": [
    "with open('book.json','w') as f:\n",
    "    json.dump(json_data, f, indent='\\t')"
   ]
  },
  {
   "cell_type": "code",
   "execution_count": null,
   "id": "d34817c2",
   "metadata": {},
   "outputs": [],
   "source": []
  },
  {
   "cell_type": "code",
   "execution_count": null,
   "id": "53da380d",
   "metadata": {},
   "outputs": [],
   "source": []
  }
 ],
 "metadata": {
  "kernelspec": {
   "display_name": "Python 3 (ipykernel)",
   "language": "python",
   "name": "python3"
  },
  "language_info": {
   "codemirror_mode": {
    "name": "ipython",
    "version": 3
   },
   "file_extension": ".py",
   "mimetype": "text/x-python",
   "name": "python",
   "nbconvert_exporter": "python",
   "pygments_lexer": "ipython3",
   "version": "3.9.7"
  }
 },
 "nbformat": 4,
 "nbformat_minor": 5
}
