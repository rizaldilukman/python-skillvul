{
 "cells": [
  {
   "cell_type": "markdown",
   "id": "12da1b39",
   "metadata": {},
   "source": [
    "## Dictionary - Get Method (mendapatkan nilai spesifik) "
   ]
  },
  {
   "cell_type": "markdown",
   "id": "b2a87524",
   "metadata": {},
   "source": [
    "Fungsi get() digunakan untuk mendapatkan value dari key yang spesifik "
   ]
  },
  {
   "cell_type": "code",
   "execution_count": 1,
   "id": "5cae8ed7",
   "metadata": {},
   "outputs": [
    {
     "name": "stdout",
     "output_type": "stream",
     "text": [
      "10\n"
     ]
    }
   ],
   "source": [
    "dic = {'a':10,'b':20,'c':30,'d':40}\n",
    "a = dic.get('a') #fungsi untuk mendapatkan value dari a\n",
    "print(a)"
   ]
  },
  {
   "cell_type": "code",
   "execution_count": 6,
   "id": "8792c4d3",
   "metadata": {},
   "outputs": [
    {
     "name": "stdout",
     "output_type": "stream",
     "text": [
      "0\n"
     ]
    }
   ],
   "source": [
    "#jika tidak ada value dari dic tersebut?, maka hasil akan 0\n",
    "dic = {'a':10,'b':20,'c':30,'d':40}\n",
    "b = dic.get('z',0) # tidak terdapat key z dalam dictionary dic sehingga dikembalikan value 0\n",
    "print(b)"
   ]
  },
  {
   "cell_type": "code",
   "execution_count": 12,
   "id": "e02a6976",
   "metadata": {},
   "outputs": [],
   "source": [
    "#Kita juga dapat memberikan default value dalam sebuah fungsi get()\n",
    "#dic.get(key,default_value)"
   ]
  },
  {
   "cell_type": "markdown",
   "id": "0452ab4d",
   "metadata": {},
   "source": [
    "Sehingga jika kita menggunakan fungsi get() untuk sebuah key yang tidak ada di dalam sebuah dictionary maka fungsi get() akan mengembalikan default value tersebut."
   ]
  },
  {
   "cell_type": "code",
   "execution_count": 13,
   "id": "dee1f32f",
   "metadata": {},
   "outputs": [
    {
     "name": "stdout",
     "output_type": "stream",
     "text": [
      "0\n"
     ]
    }
   ],
   "source": [
    "dic = {'a':10,'b':20,'c':30,'d':40}\n",
    "b = dic.get('z',0) # tidak terdapat key z dalam dictionary dic sehingga dikembalikan value 0\n",
    "print(b)"
   ]
  },
  {
   "cell_type": "markdown",
   "id": "ad8abc53",
   "metadata": {},
   "source": [
    "##  Dictionary - Pop, Popitem, Clear Method (menghapus nilai dari dictionary)"
   ]
  },
  {
   "cell_type": "markdown",
   "id": "6030a064",
   "metadata": {},
   "source": [
    "ada beberapa cara untuk menghilangkan item dari sebuah dictionary"
   ]
  },
  {
   "cell_type": "markdown",
   "id": "fcd80991",
   "metadata": {},
   "source": [
    "### Popular "
   ]
  },
  {
   "cell_type": "markdown",
   "id": "c67214e7",
   "metadata": {},
   "source": [
    "Fungsi pop() **digunakan untuk menghapus item** Fungsi pop() menghapus key value pair yang spesifik dan **mengembalikan value yang dihapus**"
   ]
  },
  {
   "cell_type": "code",
   "execution_count": 16,
   "id": "49cfae6a",
   "metadata": {},
   "outputs": [
    {
     "name": "stdout",
     "output_type": "stream",
     "text": [
      "10\n"
     ]
    }
   ],
   "source": [
    "dic = {'a':10,'b':20,'c':30,'d':40}\n",
    "print(dic.pop('a')) #menghapus key value pair dengan key a"
   ]
  },
  {
   "cell_type": "code",
   "execution_count": 15,
   "id": "793a3bc7",
   "metadata": {},
   "outputs": [
    {
     "name": "stdout",
     "output_type": "stream",
     "text": [
      "{'b': 20, 'c': 30, 'd': 40}\n"
     ]
    }
   ],
   "source": [
    "print(dic)"
   ]
  },
  {
   "cell_type": "markdown",
   "id": "34eb24fc",
   "metadata": {},
   "source": [
    "Contoh kode di atas dic.pop(key) mengembalikan nilai yang dihapus setelah menghapus key-value pair yang spesifik dari dictionary. Dalam contoh kode di atas, dalam sebuah dictionary dic, kita menghapus key-value pair dengan key a dan setelah fungsi pop() dijalankan, fungsi tersebut mengembalikan nilai 10, yang merupakan value dari key a. Setelah dihapus menggunakan fungsi pop() , key-value pair dengan key a dan value 10, sudah tidak ada lagi di dalam dictionary dic."
   ]
  },
  {
   "cell_type": "markdown",
   "id": "e0b33b1d",
   "metadata": {},
   "source": [
    "## popitem()"
   ]
  },
  {
   "cell_type": "markdown",
   "id": "c9a1c602",
   "metadata": {},
   "source": [
    "Fungsi popitem() juga merupakan metode untuk menghapus sebuah elemen dari dictionary, namun fungsi popitem() menghapus key-value pair apa pun dari sebuah dictionary dan mengembalikan key-value pair yang dihapus dalam bentuk tipe data tuple."
   ]
  },
  {
   "cell_type": "code",
   "execution_count": 23,
   "id": "eb82b2bd",
   "metadata": {},
   "outputs": [
    {
     "name": "stdout",
     "output_type": "stream",
     "text": [
      "('d', 40)\n"
     ]
    }
   ],
   "source": [
    "dic = {'a':10,'b':20,'c':30, 'd':40}\n",
    "print(dic.popitem())"
   ]
  },
  {
   "cell_type": "code",
   "execution_count": 4,
   "id": "4b622e30",
   "metadata": {},
   "outputs": [
    {
     "name": "stdout",
     "output_type": "stream",
     "text": [
      "30\n"
     ]
    }
   ],
   "source": [
    "dic = {'a': 10,'b': 20,'c': 30, 'd': 40}\n",
    "print(dic.pop('c'))"
   ]
  },
  {
   "cell_type": "markdown",
   "id": "722eee6f",
   "metadata": {},
   "source": [
    "## Dictionary - Items, Keys, Values"
   ]
  },
  {
   "cell_type": "markdown",
   "id": "13585582",
   "metadata": {},
   "source": [
    "### Menampilkan dengan keys\n",
    "Menampilkan seluruh key yang ada di dalam sebuah dictionary dengan fungsi keys()"
   ]
  },
  {
   "cell_type": "code",
   "execution_count": 5,
   "id": "43cf96b9",
   "metadata": {},
   "outputs": [
    {
     "name": "stdout",
     "output_type": "stream",
     "text": [
      "dict_keys(['a', 'b', 'c', 'd'])\n"
     ]
    }
   ],
   "source": [
    "dic = {'a':10,'b':20, 'c':30, 'd':40}\n",
    "print (dic.keys())"
   ]
  },
  {
   "cell_type": "markdown",
   "id": "536153ed",
   "metadata": {},
   "source": [
    "### Menampilkan dengan values ()"
   ]
  },
  {
   "cell_type": "code",
   "execution_count": 8,
   "id": "43e51d16",
   "metadata": {},
   "outputs": [
    {
     "name": "stdout",
     "output_type": "stream",
     "text": [
      "dict_values([10, 20, 30, 40])\n"
     ]
    }
   ],
   "source": [
    "#menampilkan seluruh value yang ada dalam dictionary dengan values\n",
    "dic = {'a':10, 'b':20, 'c':30, 'd':40}\n",
    "print (dic.values())"
   ]
  },
  {
   "cell_type": "markdown",
   "id": "7a80ab54",
   "metadata": {},
   "source": [
    "### Menampilkan dengan Fungsi Items()"
   ]
  },
  {
   "cell_type": "markdown",
   "id": "4e0e4c77",
   "metadata": {},
   "source": [
    "Kita juga dapat mengakses seluruh item dalam sebuah dictionary dengan fungsi items(). Jika fungsi items() digunakan menggunakan for loop maka akan mengembalikan sebuah tipe data tuple yang berisi (key,value) dan bisa kita manfaatkan seperti kode di bawah ini:"
   ]
  },
  {
   "cell_type": "code",
   "execution_count": 10,
   "id": "97330d68",
   "metadata": {},
   "outputs": [
    {
     "name": "stdout",
     "output_type": "stream",
     "text": [
      "dict_items([('a', 10), ('b', 20), ('c', 30), ('d', 40)])\n"
     ]
    }
   ],
   "source": [
    "dic = {'a':10,'b':20,'c':30,'d':40}\n",
    "print(dic.items())"
   ]
  },
  {
   "cell_type": "code",
   "execution_count": 12,
   "id": "ccc9c9fc",
   "metadata": {},
   "outputs": [
    {
     "name": "stdout",
     "output_type": "stream",
     "text": [
      "a : 10\n",
      "b : 20\n",
      "c : 30\n",
      "d : 40\n"
     ]
    }
   ],
   "source": [
    "for str1,num, in dic.items(): #mengakses dictionary dengan for\n",
    "    print(str1,':',num)"
   ]
  },
  {
   "cell_type": "code",
   "execution_count": 14,
   "id": "ec3b5f7e",
   "metadata": {},
   "outputs": [
    {
     "name": "stdout",
     "output_type": "stream",
     "text": [
      "Hello!\n",
      "Hello!\n"
     ]
    }
   ],
   "source": [
    "dic = {'w': 10,'x': 20,'y': 30}\n",
    "\n",
    "for str,elemens in dic.items():\n",
    "    if elemens > 10:\n",
    "        print(\"Hello!\")\n"
   ]
  },
  {
   "cell_type": "markdown",
   "id": "8a413887",
   "metadata": {},
   "source": [
    "## Menambahkan dan update data\n",
    "### DICTIONARY - UPDATE"
   ]
  },
  {
   "cell_type": "markdown",
   "id": "0e01927a",
   "metadata": {},
   "source": [
    "Fungsi yang digunakan adalah updaet(). fungsi update(key=value) memodifikasi nilai key dalam sebuah dictionary. "
   ]
  },
  {
   "cell_type": "code",
   "execution_count": 16,
   "id": "833ae693",
   "metadata": {},
   "outputs": [
    {
     "name": "stdout",
     "output_type": "stream",
     "text": [
      "{'a': 10, 'b': 20, 'c': 30, 'd': 40}\n",
      "{'a': 90, 'b': 20, 'c': 30, 'd': 40}\n"
     ]
    }
   ],
   "source": [
    "dic = {'a':10,'b':20,'c':30,'d':40}\n",
    "print(dic)\n",
    "dic.update(a=90)\n",
    "print(dic)"
   ]
  },
  {
   "cell_type": "markdown",
   "id": "23a8c008",
   "metadata": {},
   "source": [
    "Jika kita menggunakan fungsi update untuk sebuah key yang tersedia, fungsi update digunakan untuk menambahkan key-value pair dalam dictionary."
   ]
  },
  {
   "cell_type": "code",
   "execution_count": 21,
   "id": "368df0fe",
   "metadata": {},
   "outputs": [
    {
     "name": "stdout",
     "output_type": "stream",
     "text": [
      "{'a': 10, 'b': 20, 'c': 30, 'd': 40}\n",
      "{'a': 10, 'b': 20, 'c': 30, 'd': 40, 'e': 50}\n"
     ]
    }
   ],
   "source": [
    "dic = {'a':10,'b':20,'c':30,'d':40}\n",
    "print(dic)\n",
    "dic.update(e=50) # karena key e belum ada maka key e dan value akan ditambahkan kedalam dictionary\n",
    "print(dic)"
   ]
  },
  {
   "cell_type": "markdown",
   "id": "fbb79cc2",
   "metadata": {},
   "source": [
    "Dapat juga kita gunakan dengan bersamaan untuk update data dan menambahkan key "
   ]
  },
  {
   "cell_type": "code",
   "execution_count": 22,
   "id": "672602fc",
   "metadata": {},
   "outputs": [
    {
     "name": "stdout",
     "output_type": "stream",
     "text": [
      "{'a': 10, 'b': 20, 'c': 30, 'd': 40}\n",
      "{'a': 900, 'b': 20, 'c': 30, 'd': 40, 'f': 60}\n"
     ]
    }
   ],
   "source": [
    "dic = {'a':10,'b':20,'c':30,'d':40}\n",
    "print(dic)\n",
    "dic.update(a=900,f=60)\n",
    "print(dic)"
   ]
  },
  {
   "cell_type": "markdown",
   "id": "47fb8a27",
   "metadata": {},
   "source": [
    "## Dictionary - Assignment and Copying Method"
   ]
  },
  {
   "cell_type": "markdown",
   "id": "1af5d712",
   "metadata": {},
   "source": [
    "## Copy"
   ]
  },
  {
   "cell_type": "markdown",
   "id": "7e4488d7",
   "metadata": {},
   "source": [
    "Menggunakan fungsi copy() untuk membuat replika dari dictionary. Hanya ingin sementara mengubah sementara valur dalam dictionary tersebut. "
   ]
  },
  {
   "cell_type": "code",
   "execution_count": 27,
   "id": "28392ed4",
   "metadata": {},
   "outputs": [],
   "source": [
    "x={'a':0,'b':0,'c':0,'d':0}\n",
    "y=x.copy"
   ]
  },
  {
   "cell_type": "code",
   "execution_count": 28,
   "id": "aa117ed3",
   "metadata": {},
   "outputs": [
    {
     "name": "stdout",
     "output_type": "stream",
     "text": [
      "False\n",
      "False\n"
     ]
    }
   ],
   "source": [
    "print(x is y) # cek apakah kedua dictionary merupakan objek yang sama\n",
    "print (x==y) # cek apakah key-value pairnya sama"
   ]
  },
  {
   "cell_type": "code",
   "execution_count": 29,
   "id": "520723d2",
   "metadata": {},
   "outputs": [
    {
     "name": "stdout",
     "output_type": "stream",
     "text": [
      "<built-in method copy of dict object at 0x000001B676E78900>\n"
     ]
    }
   ],
   "source": [
    "print(y)"
   ]
  },
  {
   "cell_type": "code",
   "execution_count": 30,
   "id": "4332f751",
   "metadata": {},
   "outputs": [
    {
     "data": {
      "text/plain": [
       "builtin_function_or_method"
      ]
     },
     "execution_count": 30,
     "metadata": {},
     "output_type": "execute_result"
    }
   ],
   "source": [
    "type(y)"
   ]
  },
  {
   "cell_type": "markdown",
   "id": "a3fd88ce",
   "metadata": {},
   "source": [
    "Apabila ingin membuat replika dari sebuah double dictionary, kita tidak dapat menggunakan metode copy(). Berikut jika melakukan replika menggunakan metode copy() pada tipe data double dictionary : "
   ]
  },
  {
   "cell_type": "code",
   "execution_count": 31,
   "id": "a1baa915",
   "metadata": {},
   "outputs": [
    {
     "name": "stdout",
     "output_type": "stream",
     "text": [
      "{'a': {'python': '2.7.15'}, 'b': {'python': '3.6'}}\n",
      "{'a': {'python': '2.7.15'}, 'b': {'python': '3.6'}}\n"
     ]
    }
   ],
   "source": [
    "x = {'a': {'python':'2.7'},'b':{'python':'3.6'}}\n",
    "y = x.copy()\n",
    "\n",
    "y['a']['python'] = '2.7.15' # merubah value dari key a - python\n",
    "print(x)\n",
    "print(y)"
   ]
  },
  {
   "cell_type": "code",
   "execution_count": 34,
   "id": "df382db0",
   "metadata": {},
   "outputs": [],
   "source": [
    "import copy"
   ]
  },
  {
   "cell_type": "code",
   "execution_count": 36,
   "id": "998544a0",
   "metadata": {},
   "outputs": [
    {
     "name": "stdout",
     "output_type": "stream",
     "text": [
      "{'a': {'python': '2.7'}, 'b': {'python': '3.6'}}\n",
      "{'a': {'python': '2.7.15'}, 'b': {'python': '3.6'}}\n"
     ]
    }
   ],
   "source": [
    "#syntax\n",
    "#y = copy.deepcopy(dictionary_yang_ingin_dicopy)\n",
    "\n",
    "x = {'a': {'python':'2.7'},'b':{'python':'3.6'}}\n",
    "import copy # memanggil copy module\n",
    "y = copy.deepcopy(x) # deep copy menggunakan deepcopy function dari copy module\n",
    "\n",
    "y['a']['python'] = '2.7.15' # merubah value dari key a - python\n",
    "print(x)\n",
    "print(y)"
   ]
  },
  {
   "cell_type": "code",
   "execution_count": 38,
   "id": "b070be5b",
   "metadata": {},
   "outputs": [
    {
     "name": "stdout",
     "output_type": "stream",
     "text": [
      "False\n"
     ]
    }
   ],
   "source": [
    "\n",
    "a = {'abc': 100, 'cde': 200}\n",
    "b = a.copy()\n",
    "\n",
    "print(a is b) "
   ]
  },
  {
   "cell_type": "markdown",
   "id": "c680d610",
   "metadata": {},
   "source": [
    "### Dictionary - Default Dict (untuk mencegah error pada key yang tidak ada di dict)"
   ]
  },
  {
   "cell_type": "markdown",
   "id": "995cd9c2",
   "metadata": {},
   "source": [
    "Fungsi defaultdict() berguna untuk memberikan initial value apabila sebuah key tidak ada di dalam sebuah dictionary."
   ]
  },
  {
   "cell_type": "markdown",
   "id": "c1005c9d",
   "metadata": {},
   "source": [
    "Dari contoh di atas kita bisa melihat bahwa jika kita mencoba mengakses key z dari sebuah dictionary x yang tidak memiliki key tersebut, maka akan muncul KeyError.\n",
    "\n",
    "Sehingga untuk mencegah hal ini terjadi kita butuh fungsi defaultdict(). Fungsi defaultdict() ini akan membantu kita agar mencegah KeyError dan akan mengembalikan default value. defaultdict() merupakan bagian dari collections module sehingga kita harus melakukan import dengan menggunakan:from collections import defaultdict\n",
    "\n",
    "Untuk menggunakan defaultdict() mari kita perhatikan contoh di bawah ini:"
   ]
  },
  {
   "cell_type": "code",
   "execution_count": 40,
   "id": "dc088016",
   "metadata": {},
   "outputs": [
    {
     "name": "stdout",
     "output_type": "stream",
     "text": [
      "0\n"
     ]
    }
   ],
   "source": [
    "from collections import defaultdict # import default dict method dari collections module\n",
    "\n",
    "keys = ('a','b','c','d')\n",
    "y = dict.fromkeys(keys,100)\n",
    "y = defaultdict(int) # set default value sebagai integer\n",
    "\n",
    "print(y['z']) # mengakses key z dari dictionary y"
   ]
  },
  {
   "cell_type": "markdown",
   "id": "30695339",
   "metadata": {},
   "source": [
    "Pada contoh di atas kita mencoba mengakses key z yang tidak ada di dalam dictionary y, namun karena kita sudah memanggil fungsi defaultdict() dan kita sudah set default value sebagi int dan default value dari int adalah 0, maka program akan mengembalikan nilai 0 dan KeyError tidak terjadi."
   ]
  },
  {
   "cell_type": "markdown",
   "id": "79ad0693",
   "metadata": {},
   "source": [
    "## Dictionary - Double Dictionary \n"
   ]
  },
  {
   "cell_type": "markdown",
   "id": "8e23ff0b",
   "metadata": {},
   "source": [
    "Dalam sebuah dictionary, kita bisa memasukkan dictionary ke dalam sebuah dictionary. Hal ini serupa dengan tipe data list. "
   ]
  },
  {
   "cell_type": "code",
   "execution_count": 45,
   "id": "35abac2d",
   "metadata": {},
   "outputs": [
    {
     "name": "stdout",
     "output_type": "stream",
     "text": [
      "2439.7\n"
     ]
    }
   ],
   "source": [
    "terrestial_planet = {\n",
    "    'Mercury':{\n",
    "        'mean_radius':2439.7,\n",
    "        'mass': 3.3022E+23,\n",
    "        'orbital_period':87.969,\n",
    "    },\n",
    "    'Venus':{\n",
    "        'mean_radius':2439.7,\n",
    "        'mass': 3.3022E+23,\n",
    "        'orbital_period':87.969,\n",
    "    },\n",
    "    'Earth':{\n",
    "        'mean_radius':2439.7,\n",
    "        'mass': 3.3022E+23,\n",
    "        'orbital_period':87.969,\n",
    "    },\n",
    "    'Mars':{\n",
    "        'mean_radius':2439.7,\n",
    "        'mass': 3.3022E+23,\n",
    "        'orbital_period':87.969,\n",
    "    }\n",
    "}\n",
    "\n",
    "print(terrestial_planet['Venus']['mean_radius'])"
   ]
  },
  {
   "cell_type": "markdown",
   "id": "c8dbb127",
   "metadata": {},
   "source": [
    "Dalam contoh kode di atas, masing-masing key di dalam dictionary terrestial_ planet memiliki value sebuah dictionary yang berisi 'mean_radius', 'mass', dan 'orbital_period'. Double dictionary sangat berguna untuk menyimpan hierarchical data. Lalu untuk mengakses dictionary yang berada di dalam dictionary kita bisa menggunakan sintaks berikut:"
   ]
  },
  {
   "cell_type": "markdown",
   "id": "ee96783a",
   "metadata": {},
   "source": [
    "dictionary[key][key] = value"
   ]
  },
  {
   "cell_type": "markdown",
   "id": "8419545b",
   "metadata": {},
   "source": [
    "Pada contoh kode di atas jika kita ingin mengakses 'mean_radius' dari 'Venus' kita bisa menuliskan seperti berikut:"
   ]
  },
  {
   "cell_type": "code",
   "execution_count": 49,
   "id": "34421077",
   "metadata": {},
   "outputs": [
    {
     "name": "stdout",
     "output_type": "stream",
     "text": [
      "2439.7\n"
     ]
    }
   ],
   "source": [
    "print(terrestial_planet['Venus']['mean_radius'])"
   ]
  },
  {
   "cell_type": "code",
   "execution_count": 50,
   "id": "b44c695d",
   "metadata": {},
   "outputs": [
    {
     "name": "stdout",
     "output_type": "stream",
     "text": [
      "Budi\n"
     ]
    }
   ],
   "source": [
    "a = {\"orang\": \n",
    "        {\n",
    "        \"nama\": \"Budi\",\n",
    "        \"umur\": \"20\",\n",
    "        \"alamat\": \"Jalan\"\n",
    "        }\n",
    "}\n",
    "\n",
    "print(a[\"orang\"][\"nama\"])\n"
   ]
  },
  {
   "cell_type": "markdown",
   "id": "b5c63c69",
   "metadata": {},
   "source": [
    "## Dictionary - From Keys Method  (mengisi dictionary dengan methode formkeys) "
   ]
  },
  {
   "cell_type": "markdown",
   "id": "b26a66a9",
   "metadata": {},
   "source": [
    "Ada berbagai cara untuk membuat dictionary dan salah satunya adalah menggunakan **fromkeys() **"
   ]
  },
  {
   "cell_type": "code",
   "execution_count": 52,
   "id": "6775c84c",
   "metadata": {},
   "outputs": [],
   "source": [
    "#syntax\n",
    "#dict.fromkeys(key_list)"
   ]
  },
  {
   "cell_type": "markdown",
   "id": "bc48f2ae",
   "metadata": {},
   "source": [
    "dimana kita bisa mengkonversikan sebuah list atau tuple menjadi sebuah key list dengan value awal adalah None. Untuk lebih jelasnya mari kita perhatikan kode di bawah ini:"
   ]
  },
  {
   "cell_type": "code",
   "execution_count": 53,
   "id": "cfd53941",
   "metadata": {},
   "outputs": [
    {
     "name": "stdout",
     "output_type": "stream",
     "text": [
      "{'a': None, 'b': None, 'c': None, 'd': None}\n"
     ]
    }
   ],
   "source": [
    "keys = ['a','b','c','d']\n",
    "x = dict.fromkeys(keys)\n",
    "print(x)"
   ]
  },
  {
   "cell_type": "markdown",
   "id": "38b28658",
   "metadata": {},
   "source": [
    "Kode di atas menunjukkan cara membuat sebuah dictionary x dengan key berdasarkan data dari sebuah list keys. Key yang ada di dalam dictionary x berasal dari keys dengan value awal yaitu None.\n",
    "\n",
    "Selain membuat dictionary dari tipe data list, kita juga dapat membuat dictionary dari tipe data tuple dengan cara dan hasil yang sama seperti kode di bawah ini:"
   ]
  },
  {
   "cell_type": "code",
   "execution_count": 55,
   "id": "5ffc7360",
   "metadata": {},
   "outputs": [
    {
     "name": "stdout",
     "output_type": "stream",
     "text": [
      "{'a': 100, 'b': 100, 'c': 100, 'd': 100}\n"
     ]
    }
   ],
   "source": [
    "keys = ('a','b','c','d')\n",
    "y = dict.fromkeys(keys,100)\n",
    "print(y)"
   ]
  }
 ],
 "metadata": {
  "kernelspec": {
   "display_name": "Python 3 (ipykernel)",
   "language": "python",
   "name": "python3"
  },
  "language_info": {
   "codemirror_mode": {
    "name": "ipython",
    "version": 3
   },
   "file_extension": ".py",
   "mimetype": "text/x-python",
   "name": "python",
   "nbconvert_exporter": "python",
   "pygments_lexer": "ipython3",
   "version": "3.9.7"
  }
 },
 "nbformat": 4,
 "nbformat_minor": 5
}
