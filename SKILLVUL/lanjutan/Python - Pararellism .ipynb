{
 "cells": [
  {
   "cell_type": "markdown",
   "id": "cb5102e6",
   "metadata": {},
   "source": [
    "### Concurrency dan Parallelism"
   ]
  },
  {
   "cell_type": "markdown",
   "id": "fa285cec",
   "metadata": {},
   "source": [
    "Dalam dunia digital terutama dunia big data, kita akan banyak sekali bermain dengan data-data yang jumlahnya sangat banyak dan data tersebut harus kita proses dengan cepat, namun jika kita menggunakan process secara synchronous atau suatu task harus menunggu sampai task sebelumnya selesai, maka ini akan menjadi masalah yang besar.\n",
    "\n",
    "Maka dari itu, kita juga harus membuat program kita bisa berjalan secara asynchronous agar kita bisa meningkatkan performance dari program yang kita buat dan mengurangi total processing time.\n",
    "\n",
    "Untuk mengatasi hal tersebut kita dapat menggunakan konsep parallelism dan concurrency.\n",
    "\n",
    "Secara umum, concurrency dianggap sebagai konsep yang lebih besar daripada parallelism. Sederhananya, kedua konsep tersebut melakukan banyak hal pada saat yang bersamaan. Dalam praktiknya, ada sudut pandang tertentu pada perbedaan antara kedua ide tersebut, terutama dalam Python.\n",
    "\n",
    "Concurrency kemudian sering dipahami sebagai \"mengelola\" banyak pekerjaan secara bersamaan. Pada kenyataannya, pekerjaan-pekerjaan itu tidak benar-benar dijalankan pada saat yang bersamaan. Mereka bergantian secara Parallelism, berarti mengeksekusi beberapa pekerjaan secara bersamaan atau secara paralel. Parallelism memungkinkan untuk memanfaatkan banyak core pada satu mesin."
   ]
  },
  {
   "cell_type": "markdown",
   "id": "9e4bc3ce",
   "metadata": {},
   "source": [
    "Untuk menerapkan kedua konsep tersebut dalam Python, kita bisa menggunakan library:\n",
    "\n",
    "- multiprocess untuk parallelism dan,\n",
    "- threading untuk concurrency"
   ]
  },
  {
   "cell_type": "markdown",
   "id": "9e60221c",
   "metadata": {},
   "source": [
    "## Threading "
   ]
  },
  {
   "cell_type": "markdown",
   "id": "f67b2505",
   "metadata": {},
   "source": [
    "Thread  adalah ***entitas dalam proses yang dapat dijadwalkan untuk dieksekusi***. Thread juga adalah unit pemrosesan terkecil yang dapat dilakukan dalam sistem operasi. "
   ]
  },
  {
   "cell_type": "markdown",
   "id": "09b3a1ff",
   "metadata": {},
   "source": [
    "Dengan kata lain, thread adalah urutan instruksi semacam itu dalam program yang dapat dieksekusi secara independen dari kode lain. Untuk kesederhanaan, anda dapat mengasumsikan bahwa thread adalah bagian dari proses. "
   ]
  },
  {
   "cell_type": "markdown",
   "id": "0f758e9d",
   "metadata": {},
   "source": [
    "Multithreading didefinisikan sebagai kemampuan prosesor untuk mengeksekusi beberapa thread secara bersamaan."
   ]
  },
  {
   "cell_type": "code",
   "execution_count": 5,
   "id": "27b580d2",
   "metadata": {},
   "outputs": [
    {
     "name": "stdout",
     "output_type": "stream",
     "text": [
      "Hello from dynamic-sleep interval, pengulangan ke-0\n",
      "Hello from dynamic-sleep interval, pengulangan ke-1\n",
      "Hello from static-sleep interval, pengulangan ke-0\n",
      "Hello from dynamic-sleep interval, pengulangan ke-2\n",
      "Hello from static-sleep interval, pengulangan ke-1\n",
      "Hello from dynamic-sleep interval, pengulangan ke-3\n",
      "Hello from static-sleep interval, pengulangan ke-2\n",
      "Hello from dynamic-sleep interval, pengulangan ke-4\n",
      "Hello from static-sleep interval, pengulangan ke-3\n",
      "Hello from static-sleep interval, pengulangan ke-4\n",
      "Selesai!\n"
     ]
    }
   ],
   "source": [
    "import threading # import library threading\n",
    "import time # import library time\n",
    "\n",
    "def print_with_dynamic_sleep(total_iteration):\n",
    "    \n",
    "    \"\"\" \n",
    "    fungsi berikut akan melakukan print command \n",
    "    dengan interval yang berbeda - beda\n",
    "    \"\"\"\n",
    "    for x in range (total_iteration):\n",
    "        print(\"Hello from dynamic-sleep interval, pengulangan ke-{}\".format(x))\n",
    "        time.sleep(x) #fungsi akan berhenti selama x second, akan berubah2 secara dinamis\n",
    "\n",
    "def print_with_static_sleep(total_iteration):\n",
    "\n",
    "    \"\"\"\n",
    "    fungsi berikut akan melakukan print command \n",
    "    dengan interval yang statis/sama\n",
    "    \"\"\"\n",
    "    \n",
    "    for x in range (total_iteration):\n",
    "        print(\"Hello from static-sleep interval, pengulangan ke-{}\".format(x))\n",
    "        time.sleep(2) #akan berhenti setelah 2 second\n",
    "\n",
    "if __name__ == \"__main__\":\n",
    "    # creating thread\n",
    "    t1 = threading.Thread(target=print_with_dynamic_sleep, args=(5,))\n",
    "    t2 = threading.Thread(target=print_with_static_sleep, args=(5,))\n",
    "\n",
    "\t# memulai thread pertama\n",
    "\tt1.start()\n",
    "\t# memulai thread kedua\n",
    "\tt2.start()\n",
    "\n",
    "\t# tunggu sampai thread 1 selesai dilaksanakan\n",
    "\tt1.join()\n",
    "\t# tunggu sampai thread 2 selesai dilaksanakan\n",
    "\tt2.join()\n",
    "\n",
    "\t# both threads completely executed\n",
    "\tprint(\"Selesai!\")\n",
    "    "
   ]
  },
  {
   "cell_type": "code",
   "execution_count": null,
   "id": "4b03259b",
   "metadata": {},
   "outputs": [],
   "source": [
    "# sintaks thread \n",
    "t1 = threading.Thread(target=nama_fungsi, args=(5,)) \n",
    "# kita juga bisa memberikan argument kedalam fungsi tersebut\n",
    "# nama fungsi tidak perlu menggunakan '()'\n",
    "\n",
    "# mendeclare fungsi\n",
    "def nama_fungsi(params): \n",
    "    #lakukan sebuah process"
   ]
  },
  {
   "cell_type": "markdown",
   "id": "2d3e0b9f",
   "metadata": {},
   "source": [
    "Bisa terlihat dari output program, kedua function tersebut tidak saling menunggu sama lain hingga function yang lainnya selesai melainkan melakukan proses dalam block function masing-masing secara parallel."
   ]
  },
  {
   "cell_type": "markdown",
   "id": "f10c1902",
   "metadata": {},
   "source": [
    "## Multiprocessing"
   ]
  },
  {
   "cell_type": "markdown",
   "id": "84b49384",
   "metadata": {},
   "source": [
    "Apa itu sebenarnya multiprocessing? **Multiprocessing mengacu pada kemampuan sistem untuk mendukung lebih dari satu prosesor pada saat yang bersamaan.** Aplikasi dalam sistem multiprocessing dipecah menjadi rutinitas yang lebih kecil yang berjalan secara independen. Sistem operasi mengalokasikan thread ini ke prosesor untuk meningkatkan kinerja sistem.\n",
    "\n",
    "**Multiprocessing sangat cocok untuk program atau sistem yang membutuhkan komputasi CPU yang tinggi, karena bisa memaksimalkan jumlah CPU yang ada didalam komputer tersebut.** Namun Ada beberapa hal yang perlu diperhatikan dalam process multiprocessing."
   ]
  },
  {
   "cell_type": "markdown",
   "id": "11f46250",
   "metadata": {},
   "source": [
    "-     Pertama, kita harus dapat menentukan apakah beberapa data mungkin benar-benar perlu diakses oleh semua proses, karena memori antar proses tidak dibagikan.\n",
    "- Terakhir, jika komputasi dalam program kita sebenarnya tidak terlalu intensif, multiprocessing mungkin tidak mempercepat secara signifikan karena overhead process untuk menjalankan interpreters."
   ]
  },
  {
   "cell_type": "code",
   "execution_count": 17,
   "id": "3d2a53cc",
   "metadata": {},
   "outputs": [],
   "source": [
    "import multiprocessing # import library multiprocessing\n",
    "import time # import library time"
   ]
  },
  {
   "cell_type": "code",
   "execution_count": 18,
   "id": "86e29647",
   "metadata": {},
   "outputs": [],
   "source": [
    "def print_with_dynamic_sleep(total_iteration):\n",
    "    \"\"\"\n",
    "    fungsi berikut akan melakukan print command\n",
    "    dengan interval yang berbeda-beda\n",
    "    \"\"\"\n",
    "    for x in range(total_iteration):\n",
    "        print(\"Hello from dynamic-sleep interval, pengulangan ke-{}\".format(x))\n",
    "        time.sleep(x) # fungsi akan berhenti selama x second, akan berubah2 secara dinamis\n",
    "\n",
    "def print_with_static_sleep(total_iteration):\n",
    "    \"\"\"\n",
    "    fungsi berikut akan melakukan print command\n",
    "    dengan interval yang statis/sama\n",
    "    \"\"\"\n",
    "    for x in range(total_iteration):\n",
    "        print(\"Hello from static-sleep interval, pengulangan ke-{}\".format(x))\n",
    "        time.sleep(2) # fungsi akan berhenti selama 2 second\n"
   ]
  },
  {
   "cell_type": "code",
   "execution_count": 19,
   "id": "d3c286db",
   "metadata": {},
   "outputs": [
    {
     "name": "stdout",
     "output_type": "stream",
     "text": [
      "Selesai!\n"
     ]
    }
   ],
   "source": [
    "\n",
    "if __name__ == \"__main__\":\n",
    "    # creating thread\n",
    "    p1 = multiprocessing.Process(target=print_with_dynamic_sleep, args=(5,))\n",
    "    p2 = multiprocessing.Process(target=print_with_static_sleep, args=(5,))\n",
    "\n",
    "    # memulai process pertama\n",
    "    p1.start()\n",
    "    # memulai process kedua\n",
    "    p2.start()\n",
    "\n",
    "    # tunggu sampai process 1 selesai dilaksanakan\n",
    "    p1.join()\n",
    "    # tunggu sampai process 2 selesai dilaksanakan\n",
    "    p2.join()\n",
    "\n",
    "    # both threads completely executed\n",
    "    print(\"Selesai!\")"
   ]
  },
  {
   "cell_type": "markdown",
   "id": "ff025e01",
   "metadata": {},
   "source": [
    "Secara API dan syntax penulisan, multiprocessing memiliki cukup banyak kemiripan dengan threading:"
   ]
  },
  {
   "cell_type": "code",
   "execution_count": null,
   "id": "f488082d",
   "metadata": {},
   "outputs": [],
   "source": [
    "p1 = multiprocessing.Process(target=nama_fungsi, args=(5,)) \n",
    "# kita juga bisa memberikan argument kedalam fungsi tersebut\n",
    "# nama fungsi tidak perlu menggunakan '()'\n",
    "\n",
    "# mendeclare fungsi\n",
    "def nama_fungsi(params):\n",
    "  # lakukan sebuah process"
   ]
  },
  {
   "cell_type": "markdown",
   "id": "962a4f79",
   "metadata": {},
   "source": [
    "Perbedaan mendasar antara multiprocessing dengan thread dalam Python adalah \n",
    "- multiprocessing secara efektif mengesampingkan Global Interpreter Lock atau (GIL) dengan menggunakan subproses, bukan menggunakan thread. \n",
    "\n",
    "Oleh karena itu, modul multiprocessing memungkinkan program untuk sepenuhnya memanfaatkan multi-core processor pada mesin atau komputer kita."
   ]
  },
  {
   "cell_type": "code",
   "execution_count": null,
   "id": "decc62c3",
   "metadata": {},
   "outputs": [],
   "source": []
  }
 ],
 "metadata": {
  "kernelspec": {
   "display_name": "Python 3 (ipykernel)",
   "language": "python",
   "name": "python3"
  },
  "language_info": {
   "codemirror_mode": {
    "name": "ipython",
    "version": 3
   },
   "file_extension": ".py",
   "mimetype": "text/x-python",
   "name": "python",
   "nbconvert_exporter": "python",
   "pygments_lexer": "ipython3",
   "version": "3.9.7"
  }
 },
 "nbformat": 4,
 "nbformat_minor": 5
}
